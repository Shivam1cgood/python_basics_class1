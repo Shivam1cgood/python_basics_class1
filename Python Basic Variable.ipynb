{
 "cells": [
  {
   "cell_type": "code",
   "execution_count": 1,
   "id": "2cce0842-28b7-47f4-9bf6-50827a083ba2",
   "metadata": {},
   "outputs": [
    {
     "data": {
      "text/plain": [
       "3"
      ]
     },
     "execution_count": 1,
     "metadata": {},
     "output_type": "execute_result"
    }
   ],
   "source": [
    "\n",
    "1+2\n"
   ]
  },
  {
   "cell_type": "code",
   "execution_count": 2,
   "id": "62ff5c22-b41a-49d8-9be5-5be68a38d91f",
   "metadata": {},
   "outputs": [
    {
     "data": {
      "text/plain": [
       "2568"
      ]
     },
     "execution_count": 2,
     "metadata": {},
     "output_type": "execute_result"
    }
   ],
   "source": [
    "2334+234"
   ]
  },
  {
   "cell_type": "code",
   "execution_count": 3,
   "id": "8703a082-0986-4e60-b4b2-2f9f68bfe93b",
   "metadata": {},
   "outputs": [],
   "source": [
    "a=10"
   ]
  },
  {
   "cell_type": "code",
   "execution_count": 4,
   "id": "1a2aacbd-f694-43b8-985c-3180036d8298",
   "metadata": {},
   "outputs": [
    {
     "data": {
      "text/plain": [
       "10"
      ]
     },
     "execution_count": 4,
     "metadata": {},
     "output_type": "execute_result"
    }
   ],
   "source": [
    "a"
   ]
  },
  {
   "cell_type": "code",
   "execution_count": 5,
   "id": "face5925-ceda-442a-a736-e0c0f29cc4d7",
   "metadata": {},
   "outputs": [
    {
     "data": {
      "text/plain": [
       "568415"
      ]
     },
     "execution_count": 5,
     "metadata": {},
     "output_type": "execute_result"
    }
   ],
   "source": [
    "skdf=568415\n",
    "skdf"
   ]
  },
  {
   "cell_type": "code",
   "execution_count": 6,
   "id": "2a8fdb9b-43b7-4c40-9ebd-8c1a251c39f5",
   "metadata": {},
   "outputs": [
    {
     "data": {
      "text/plain": [
       "int"
      ]
     },
     "execution_count": 6,
     "metadata": {},
     "output_type": "execute_result"
    }
   ],
   "source": [
    "type(a)"
   ]
  },
  {
   "cell_type": "code",
   "execution_count": 2,
   "id": "ae3ffa3c-8bfb-4d0f-b69b-d33aefbf6e32",
   "metadata": {},
   "outputs": [
    {
     "data": {
      "text/plain": [
       "str"
      ]
     },
     "execution_count": 2,
     "metadata": {},
     "output_type": "execute_result"
    }
   ],
   "source": [
    "s = \"pthon is fun\"\n",
    "type(s)"
   ]
  },
  {
   "cell_type": "code",
   "execution_count": 8,
   "id": "53d52471-6306-45d4-82c4-b06bfc777007",
   "metadata": {},
   "outputs": [
    {
     "data": {
      "text/plain": [
       "float"
      ]
     },
     "execution_count": 8,
     "metadata": {},
     "output_type": "execute_result"
    }
   ],
   "source": [
    "f = 549.49\n",
    "type(f)"
   ]
  },
  {
   "cell_type": "code",
   "execution_count": 9,
   "id": "496ac6fb-1aba-491f-aa55-aa705d878b4c",
   "metadata": {},
   "outputs": [
    {
     "data": {
      "text/plain": [
       "(5+5j)"
      ]
     },
     "execution_count": 9,
     "metadata": {},
     "output_type": "execute_result"
    }
   ],
   "source": [
    "c = 5 + 5j\n",
    "c"
   ]
  },
  {
   "cell_type": "code",
   "execution_count": 10,
   "id": "f01b467a-4f53-44dd-9b2c-79d0e8a7caa1",
   "metadata": {},
   "outputs": [
    {
     "data": {
      "text/plain": [
       "complex"
      ]
     },
     "execution_count": 10,
     "metadata": {},
     "output_type": "execute_result"
    }
   ],
   "source": [
    "type(c)"
   ]
  },
  {
   "cell_type": "code",
   "execution_count": 11,
   "id": "805905d8-e1b4-4a48-bbfa-176d9167d273",
   "metadata": {},
   "outputs": [
    {
     "data": {
      "text/plain": [
       "5.0"
      ]
     },
     "execution_count": 11,
     "metadata": {},
     "output_type": "execute_result"
    }
   ],
   "source": [
    "c.real"
   ]
  },
  {
   "cell_type": "code",
   "execution_count": 12,
   "id": "83fe2cc4-9851-445a-8dee-e6257c9d0fcf",
   "metadata": {},
   "outputs": [
    {
     "data": {
      "text/plain": [
       "5.0"
      ]
     },
     "execution_count": 12,
     "metadata": {},
     "output_type": "execute_result"
    }
   ],
   "source": [
    "c.imag"
   ]
  },
  {
   "cell_type": "code",
   "execution_count": 13,
   "id": "f9fe2466-ae36-49bf-8914-35e8486aa7d9",
   "metadata": {},
   "outputs": [
    {
     "data": {
      "text/plain": [
       "bool"
      ]
     },
     "execution_count": 13,
     "metadata": {},
     "output_type": "execute_result"
    }
   ],
   "source": [
    "b = True\n",
    "type(b)"
   ]
  },
  {
   "cell_type": "code",
   "execution_count": 14,
   "id": "2b54576d-b1fd-47e1-a4af-51cb2b9ae31a",
   "metadata": {},
   "outputs": [
    {
     "data": {
      "text/plain": [
       "76"
      ]
     },
     "execution_count": 14,
     "metadata": {},
     "output_type": "execute_result"
    }
   ],
   "source": [
    "a1 = 32\n",
    "a2 = 44\n",
    "a1+a2"
   ]
  },
  {
   "cell_type": "code",
   "execution_count": 15,
   "id": "4991ec5e-accf-4f77-b3c5-0e68285f45e1",
   "metadata": {},
   "outputs": [
    {
     "data": {
      "text/plain": [
       "-12"
      ]
     },
     "execution_count": 15,
     "metadata": {},
     "output_type": "execute_result"
    }
   ],
   "source": [
    "a1-a2\n"
   ]
  },
  {
   "cell_type": "code",
   "execution_count": 16,
   "id": "0f6023f4-fd1a-46bc-bc82-120388d50994",
   "metadata": {},
   "outputs": [
    {
     "data": {
      "text/plain": [
       "1408"
      ]
     },
     "execution_count": 16,
     "metadata": {},
     "output_type": "execute_result"
    }
   ],
   "source": [
    "a1*a2"
   ]
  },
  {
   "cell_type": "code",
   "execution_count": 17,
   "id": "8183a428-bf2c-4cf0-bf5b-006fd0cf00f2",
   "metadata": {},
   "outputs": [
    {
     "data": {
      "text/plain": [
       "0.7272727272727273"
      ]
     },
     "execution_count": 17,
     "metadata": {},
     "output_type": "execute_result"
    }
   ],
   "source": [
    "a1/a2"
   ]
  },
  {
   "cell_type": "code",
   "execution_count": 18,
   "id": "2ec82ec7-1492-4837-adbf-f8e92476002c",
   "metadata": {},
   "outputs": [
    {
     "data": {
      "text/plain": [
       "4"
      ]
     },
     "execution_count": 18,
     "metadata": {},
     "output_type": "execute_result"
    }
   ],
   "source": [
    "a1 ,a2 = 4,5\n",
    "a1"
   ]
  },
  {
   "cell_type": "code",
   "execution_count": 19,
   "id": "5bd3cbbb-dde3-4458-b45c-25d7aa88514e",
   "metadata": {},
   "outputs": [
    {
     "data": {
      "text/plain": [
       "5"
      ]
     },
     "execution_count": 19,
     "metadata": {},
     "output_type": "execute_result"
    }
   ],
   "source": [
    "a2"
   ]
  },
  {
   "cell_type": "code",
   "execution_count": 20,
   "id": "24e59653-85a9-4020-8ad2-435f8678979c",
   "metadata": {},
   "outputs": [
    {
     "data": {
      "text/plain": [
       "True"
      ]
     },
     "execution_count": 20,
     "metadata": {},
     "output_type": "execute_result"
    }
   ],
   "source": [
    "a,b,c,d = 5454,5465.565,\"adsfa\",True\n",
    "a\n",
    "b\n",
    "c\n",
    "d"
   ]
  },
  {
   "cell_type": "code",
   "execution_count": 21,
   "id": "5634b015-a352-4e5d-9095-b6423f27674f",
   "metadata": {},
   "outputs": [
    {
     "data": {
      "text/plain": [
       "'adsfa'"
      ]
     },
     "execution_count": 21,
     "metadata": {},
     "output_type": "execute_result"
    }
   ],
   "source": [
    "c"
   ]
  },
  {
   "cell_type": "code",
   "execution_count": 22,
   "id": "bbc8e7fd-9fbc-4bcf-8b37-7afbac92c668",
   "metadata": {},
   "outputs": [
    {
     "data": {
      "text/plain": [
       "5465.565"
      ]
     },
     "execution_count": 22,
     "metadata": {},
     "output_type": "execute_result"
    }
   ],
   "source": [
    "b"
   ]
  },
  {
   "cell_type": "code",
   "execution_count": 23,
   "id": "d0d61c1c-8e64-4cc1-82cd-39640090eb7d",
   "metadata": {},
   "outputs": [
    {
     "data": {
      "text/plain": [
       "5454"
      ]
     },
     "execution_count": 23,
     "metadata": {},
     "output_type": "execute_result"
    }
   ],
   "source": [
    "a"
   ]
  },
  {
   "cell_type": "code",
   "execution_count": 24,
   "id": "d299a992-e52f-408a-a702-4fd851e30dde",
   "metadata": {},
   "outputs": [
    {
     "name": "stderr",
     "output_type": "stream",
     "text": [
      "UsageError: Line magic function `%a` not found.\n"
     ]
    }
   ],
   "source": [
    "%a =344"
   ]
  },
  {
   "cell_type": "code",
   "execution_count": 25,
   "id": "60c0c939-602f-49c0-801b-dba55681e1f7",
   "metadata": {},
   "outputs": [
    {
     "ename": "SyntaxError",
     "evalue": "invalid decimal literal (1218478993.py, line 1)",
     "output_type": "error",
     "traceback": [
      "\u001b[0;36m  Cell \u001b[0;32mIn[25], line 1\u001b[0;36m\u001b[0m\n\u001b[0;31m    4f = 34\u001b[0m\n\u001b[0m    ^\u001b[0m\n\u001b[0;31mSyntaxError\u001b[0m\u001b[0;31m:\u001b[0m invalid decimal literal\n"
     ]
    }
   ],
   "source": [
    "4f = 34"
   ]
  },
  {
   "cell_type": "code",
   "execution_count": 26,
   "id": "4116f1c6-68f9-46fa-94ca-43a8b841b926",
   "metadata": {},
   "outputs": [
    {
     "data": {
      "text/plain": [
       "34"
      ]
     },
     "execution_count": 26,
     "metadata": {},
     "output_type": "execute_result"
    }
   ],
   "source": [
    "f3 =34\n",
    "f3"
   ]
  },
  {
   "cell_type": "code",
   "execution_count": 27,
   "id": "771f6bb7-b930-47da-8900-3a443f561017",
   "metadata": {},
   "outputs": [
    {
     "ename": "SyntaxError",
     "evalue": "invalid syntax. Maybe you meant '==' or ':=' instead of '='? (3596635608.py, line 1)",
     "output_type": "error",
     "traceback": [
      "\u001b[0;36m  Cell \u001b[0;32mIn[27], line 1\u001b[0;36m\u001b[0m\n\u001b[0;31m    @fv = 43\u001b[0m\n\u001b[0m     ^\u001b[0m\n\u001b[0;31mSyntaxError\u001b[0m\u001b[0;31m:\u001b[0m invalid syntax. Maybe you meant '==' or ':=' instead of '='?\n"
     ]
    }
   ],
   "source": [
    "@fv = 43\n"
   ]
  },
  {
   "cell_type": "code",
   "execution_count": 28,
   "id": "6af19a59-41de-4774-83e6-1e17ac720db7",
   "metadata": {},
   "outputs": [],
   "source": [
    "_f = 23"
   ]
  },
  {
   "cell_type": "code",
   "execution_count": 29,
   "id": "f9f107b8-2acc-420c-8fb6-ce5bb9004667",
   "metadata": {},
   "outputs": [
    {
     "data": {
      "text/plain": [
       "23"
      ]
     },
     "execution_count": 29,
     "metadata": {},
     "output_type": "execute_result"
    }
   ],
   "source": [
    "_f"
   ]
  },
  {
   "cell_type": "code",
   "execution_count": 30,
   "id": "b738b2c5-79ad-4251-9d25-1f0cba3aa172",
   "metadata": {},
   "outputs": [
    {
     "ename": "SyntaxError",
     "evalue": "cannot assign to expression here. Maybe you meant '==' instead of '='? (1749589570.py, line 1)",
     "output_type": "error",
     "traceback": [
      "\u001b[0;36m  Cell \u001b[0;32mIn[30], line 1\u001b[0;36m\u001b[0m\n\u001b[0;31m    -s =432\u001b[0m\n\u001b[0m    ^\u001b[0m\n\u001b[0;31mSyntaxError\u001b[0m\u001b[0;31m:\u001b[0m cannot assign to expression here. Maybe you meant '==' instead of '='?\n"
     ]
    }
   ],
   "source": [
    "-s =432\n",
    "-s"
   ]
  },
  {
   "cell_type": "code",
   "execution_count": 31,
   "id": "a509ed93-537e-4eb4-9e17-db8bf959484e",
   "metadata": {},
   "outputs": [
    {
     "ename": "SyntaxError",
     "evalue": "cannot assign to True (1330372978.py, line 1)",
     "output_type": "error",
     "traceback": [
      "\u001b[0;36m  Cell \u001b[0;32mIn[31], line 1\u001b[0;36m\u001b[0m\n\u001b[0;31m    True = 34\u001b[0m\n\u001b[0m    ^\u001b[0m\n\u001b[0;31mSyntaxError\u001b[0m\u001b[0;31m:\u001b[0m cannot assign to True\n"
     ]
    }
   ],
   "source": [
    "True = 34"
   ]
  },
  {
   "cell_type": "code",
   "execution_count": 32,
   "id": "d28afb35-da86-4c63-ac52-6479a1b8b0f2",
   "metadata": {},
   "outputs": [],
   "source": [
    "int = 34"
   ]
  },
  {
   "cell_type": "code",
   "execution_count": 33,
   "id": "d49ecd1b-f242-4eeb-8f87-51aa2ce05614",
   "metadata": {},
   "outputs": [
    {
     "data": {
      "text/plain": [
       "34"
      ]
     },
     "execution_count": 33,
     "metadata": {},
     "output_type": "execute_result"
    }
   ],
   "source": [
    "int"
   ]
  },
  {
   "cell_type": "code",
   "execution_count": null,
   "id": "a7ee7b3a-d091-431b-9258-cc19bec36b3a",
   "metadata": {},
   "outputs": [],
   "source": [
    "#True is 1\n",
    "#False is 0"
   ]
  },
  {
   "cell_type": "code",
   "execution_count": 34,
   "id": "99c6d81d-a90c-4221-827f-466a5e964cb6",
   "metadata": {},
   "outputs": [
    {
     "data": {
      "text/plain": [
       "1"
      ]
     },
     "execution_count": 34,
     "metadata": {},
     "output_type": "execute_result"
    }
   ],
   "source": [
    "b1 = True\n",
    "b2 = False\n",
    "b1-b2"
   ]
  },
  {
   "cell_type": "code",
   "execution_count": 35,
   "id": "460cea12-bc53-4f94-b716-8ed41a496c57",
   "metadata": {},
   "outputs": [
    {
     "data": {
      "text/plain": [
       "0"
      ]
     },
     "execution_count": 35,
     "metadata": {},
     "output_type": "execute_result"
    }
   ],
   "source": [
    "b1*b2"
   ]
  },
  {
   "cell_type": "code",
   "execution_count": 36,
   "id": "59e1bfe1-f8b2-4b52-a79a-1d8547cf8194",
   "metadata": {},
   "outputs": [
    {
     "ename": "ZeroDivisionError",
     "evalue": "division by zero",
     "output_type": "error",
     "traceback": [
      "\u001b[0;31m---------------------------------------------------------------------------\u001b[0m",
      "\u001b[0;31mZeroDivisionError\u001b[0m                         Traceback (most recent call last)",
      "Cell \u001b[0;32mIn[36], line 1\u001b[0m\n\u001b[0;32m----> 1\u001b[0m \u001b[43mb1\u001b[49m\u001b[38;5;241;43m/\u001b[39;49m\u001b[43mb2\u001b[49m\n",
      "\u001b[0;31mZeroDivisionError\u001b[0m: division by zero"
     ]
    }
   ],
   "source": [
    "b1/b2"
   ]
  },
  {
   "cell_type": "code",
   "execution_count": 37,
   "id": "c1fa1860-9c5b-4e08-837f-99b009472408",
   "metadata": {},
   "outputs": [
    {
     "data": {
      "text/plain": [
       "'My name is Shivam'"
      ]
     },
     "execution_count": 37,
     "metadata": {},
     "output_type": "execute_result"
    }
   ],
   "source": [
    "s1 = \"My name is Shivam\"\n",
    "s1"
   ]
  },
  {
   "cell_type": "code",
   "execution_count": null,
   "id": "87c14034-abc3-4fd1-9495-a9bc3854e735",
   "metadata": {},
   "outputs": [],
   "source": [
    "# To use 's in a String use duoble quotes\n",
    "# To use \"s in a String use single quotes"
   ]
  },
  {
   "cell_type": "code",
   "execution_count": 38,
   "id": "7acf67f4-8c8c-4454-a156-c43e8da80304",
   "metadata": {},
   "outputs": [
    {
     "ename": "SyntaxError",
     "evalue": "unterminated string literal (detected at line 1) (320684738.py, line 1)",
     "output_type": "error",
     "traceback": [
      "\u001b[0;36m  Cell \u001b[0;32mIn[38], line 1\u001b[0;36m\u001b[0m\n\u001b[0;31m    s2 = 'This is my first class of data science master's'\u001b[0m\n\u001b[0m                                                         ^\u001b[0m\n\u001b[0;31mSyntaxError\u001b[0m\u001b[0;31m:\u001b[0m unterminated string literal (detected at line 1)\n"
     ]
    }
   ],
   "source": [
    "s2 = 'This is my first class of data science master's'"
   ]
  },
  {
   "cell_type": "code",
   "execution_count": 40,
   "id": "2c596080-12d1-4a49-a6fd-d2c94a141a79",
   "metadata": {},
   "outputs": [
    {
     "data": {
      "text/plain": [
       "\"This is my first class of data science master's\""
      ]
     },
     "execution_count": 40,
     "metadata": {},
     "output_type": "execute_result"
    }
   ],
   "source": [
    "#use duble quotes instead\n",
    "s2 = \"This is my first class of data science master's\"\n",
    "s2"
   ]
  },
  {
   "cell_type": "code",
   "execution_count": 41,
   "id": "a06e1588-e423-4603-9859-f307d1138b56",
   "metadata": {},
   "outputs": [
    {
     "data": {
      "text/plain": [
       "'This is my first class of data science master\"s'"
      ]
     },
     "execution_count": 41,
     "metadata": {},
     "output_type": "execute_result"
    }
   ],
   "source": [
    "s3 = 'This is my first class of data science master\"s'\n",
    "s3"
   ]
  },
  {
   "cell_type": "code",
   "execution_count": 43,
   "id": "d85531a2-2b07-4917-99b5-1cda75f0a2dc",
   "metadata": {},
   "outputs": [
    {
     "data": {
      "text/plain": [
       "' for single line comment -> #\\nfor multi-line comment -> '"
      ]
     },
     "execution_count": 43,
     "metadata": {},
     "output_type": "execute_result"
    }
   ],
   "source": [
    "''' for single line comment -> #\n",
    "for multi-line comment -> '''\n"
   ]
  },
  {
   "cell_type": "code",
   "execution_count": 44,
   "id": "cc122f13-0481-4ff1-b5bd-d3235e1b9aac",
   "metadata": {},
   "outputs": [
    {
     "ename": "TypeError",
     "evalue": "can only concatenate str (not \"int\") to str",
     "output_type": "error",
     "traceback": [
      "\u001b[0;31m---------------------------------------------------------------------------\u001b[0m",
      "\u001b[0;31mTypeError\u001b[0m                                 Traceback (most recent call last)",
      "Cell \u001b[0;32mIn[44], line 3\u001b[0m\n\u001b[1;32m      1\u001b[0m s \u001b[38;5;241m=\u001b[39m \u001b[38;5;124m\"\u001b[39m\u001b[38;5;124msdfadf\u001b[39m\u001b[38;5;124m\"\u001b[39m\n\u001b[1;32m      2\u001b[0m a \u001b[38;5;241m=\u001b[39m \u001b[38;5;241m10\u001b[39m\n\u001b[0;32m----> 3\u001b[0m \u001b[43ms\u001b[49m\u001b[38;5;241;43m+\u001b[39;49m\u001b[43ma\u001b[49m\n",
      "\u001b[0;31mTypeError\u001b[0m: can only concatenate str (not \"int\") to str"
     ]
    }
   ],
   "source": [
    "s = \"sdfadf\"\n",
    "a = 10\n",
    "s+a"
   ]
  },
  {
   "cell_type": "code",
   "execution_count": 45,
   "id": "634b459c-e4c5-4e59-922d-ca7a79bbb2e9",
   "metadata": {},
   "outputs": [
    {
     "ename": "TypeError",
     "evalue": "can only concatenate str (not \"int\") to str",
     "output_type": "error",
     "traceback": [
      "\u001b[0;31m---------------------------------------------------------------------------\u001b[0m",
      "\u001b[0;31mTypeError\u001b[0m                                 Traceback (most recent call last)",
      "Cell \u001b[0;32mIn[45], line 2\u001b[0m\n\u001b[1;32m      1\u001b[0m \u001b[38;5;28mstr\u001b[39m(a)\n\u001b[0;32m----> 2\u001b[0m \u001b[43ms\u001b[49m\u001b[38;5;241;43m+\u001b[39;49m\u001b[43ma\u001b[49m\n",
      "\u001b[0;31mTypeError\u001b[0m: can only concatenate str (not \"int\") to str"
     ]
    }
   ],
   "source": [
    "str(a)\n",
    "s+a"
   ]
  },
  {
   "cell_type": "code",
   "execution_count": 46,
   "id": "b2612809-afe9-4814-8d85-f0b8ab341df6",
   "metadata": {},
   "outputs": [
    {
     "data": {
      "text/plain": [
       "'sdfadf10'"
      ]
     },
     "execution_count": 46,
     "metadata": {},
     "output_type": "execute_result"
    }
   ],
   "source": [
    "s+str(a)"
   ]
  },
  {
   "cell_type": "code",
   "execution_count": 47,
   "id": "7bdea792-4d6e-4a50-8c2e-a8db14f4d3f0",
   "metadata": {},
   "outputs": [],
   "source": [
    "# type casting -> Changing the data type"
   ]
  },
  {
   "cell_type": "code",
   "execution_count": null,
   "id": "abf08b6c-87e6-4fdb-9802-ce8140c15c81",
   "metadata": {},
   "outputs": [],
   "source": [
    "# int was used earlier to store value \n",
    "# which would give error while using type casting\n",
    "# so we restarted the kernel"
   ]
  },
  {
   "cell_type": "code",
   "execution_count": 3,
   "id": "58d1b3a4-fa8f-4afc-b6e6-a2d41ea99378",
   "metadata": {},
   "outputs": [
    {
     "data": {
      "text/plain": [
       "10"
      ]
     },
     "execution_count": 3,
     "metadata": {},
     "output_type": "execute_result"
    }
   ],
   "source": [
    "a = 10\n",
    "b = str(a)\n",
    "int(b)"
   ]
  },
  {
   "cell_type": "code",
   "execution_count": 4,
   "id": "35fc2170-ffbe-4e81-80d6-a7f8934858c2",
   "metadata": {},
   "outputs": [],
   "source": [
    "s = \"kdjsvn\""
   ]
  },
  {
   "cell_type": "code",
   "execution_count": 5,
   "id": "70f58260-2a3b-405a-99cb-de9abd7f7cf8",
   "metadata": {},
   "outputs": [
    {
     "ename": "ValueError",
     "evalue": "invalid literal for int() with base 10: 'kdjsvn'",
     "output_type": "error",
     "traceback": [
      "\u001b[0;31m---------------------------------------------------------------------------\u001b[0m",
      "\u001b[0;31mValueError\u001b[0m                                Traceback (most recent call last)",
      "Cell \u001b[0;32mIn[5], line 1\u001b[0m\n\u001b[0;32m----> 1\u001b[0m \u001b[38;5;28;43mint\u001b[39;49m\u001b[43m(\u001b[49m\u001b[43ms\u001b[49m\u001b[43m)\u001b[49m\n",
      "\u001b[0;31mValueError\u001b[0m: invalid literal for int() with base 10: 'kdjsvn'"
     ]
    }
   ],
   "source": [
    "int(s)"
   ]
  },
  {
   "cell_type": "code",
   "execution_count": 7,
   "id": "9c700b7b-5d10-454d-b219-89a187890cc6",
   "metadata": {},
   "outputs": [
    {
     "name": "stdin",
     "output_type": "stream",
     "text": [
      " zdsfaf\n"
     ]
    }
   ],
   "source": [
    "b = input()\n",
    "# it will always store string"
   ]
  },
  {
   "cell_type": "code",
   "execution_count": 8,
   "id": "337c9764-ac85-498d-b586-d660c8567432",
   "metadata": {},
   "outputs": [
    {
     "data": {
      "text/plain": [
       "'zdsfaf'"
      ]
     },
     "execution_count": 8,
     "metadata": {},
     "output_type": "execute_result"
    }
   ],
   "source": [
    "b\n"
   ]
  },
  {
   "cell_type": "code",
   "execution_count": 9,
   "id": "958a4a18-2e4d-4aac-a296-b9c716705701",
   "metadata": {},
   "outputs": [
    {
     "data": {
      "text/plain": [
       "str"
      ]
     },
     "execution_count": 9,
     "metadata": {},
     "output_type": "execute_result"
    }
   ],
   "source": [
    "type(b)"
   ]
  },
  {
   "cell_type": "code",
   "execution_count": 10,
   "id": "9170d775-31d3-401b-aa8f-12937bbe5214",
   "metadata": {},
   "outputs": [
    {
     "name": "stdin",
     "output_type": "stream",
     "text": [
      " 54\n"
     ]
    }
   ],
   "source": [
    "b = int(input())\n",
    "# type casting can be float, bool"
   ]
  },
  {
   "cell_type": "code",
   "execution_count": 11,
   "id": "d88772d4-c6cb-40ef-96bf-25325bff24d1",
   "metadata": {},
   "outputs": [
    {
     "data": {
      "text/plain": [
       "int"
      ]
     },
     "execution_count": 11,
     "metadata": {},
     "output_type": "execute_result"
    }
   ],
   "source": [
    "type(b)"
   ]
  },
  {
   "cell_type": "code",
   "execution_count": null,
   "id": "bc69259c-7b31-4a24-9ce3-2dd90757f70e",
   "metadata": {},
   "outputs": [],
   "source": [
    "#Indexing"
   ]
  },
  {
   "cell_type": "code",
   "execution_count": 12,
   "id": "f47c41d2-539c-418e-8556-4147f3bb1a5c",
   "metadata": {},
   "outputs": [
    {
     "data": {
      "text/plain": [
       "'s'"
      ]
     },
     "execution_count": 12,
     "metadata": {},
     "output_type": "execute_result"
    }
   ],
   "source": [
    "st = \"Shivam\"\n",
    "s[3]"
   ]
  },
  {
   "cell_type": "code",
   "execution_count": 13,
   "id": "7a2f38d3-fcc7-429b-8c18-7e42c0fef48b",
   "metadata": {},
   "outputs": [
    {
     "data": {
      "text/plain": [
       "'v'"
      ]
     },
     "execution_count": 13,
     "metadata": {},
     "output_type": "execute_result"
    }
   ],
   "source": [
    "st[3]"
   ]
  },
  {
   "cell_type": "code",
   "execution_count": 14,
   "id": "1a12c76b-e32f-4e34-980c-d2a8d332ab2b",
   "metadata": {},
   "outputs": [
    {
     "ename": "IndexError",
     "evalue": "string index out of range",
     "output_type": "error",
     "traceback": [
      "\u001b[0;31m---------------------------------------------------------------------------\u001b[0m",
      "\u001b[0;31mIndexError\u001b[0m                                Traceback (most recent call last)",
      "Cell \u001b[0;32mIn[14], line 1\u001b[0m\n\u001b[0;32m----> 1\u001b[0m \u001b[43mst\u001b[49m\u001b[43m[\u001b[49m\u001b[38;5;241;43m25\u001b[39;49m\u001b[43m]\u001b[49m\n",
      "\u001b[0;31mIndexError\u001b[0m: string index out of range"
     ]
    }
   ],
   "source": [
    "st[25]"
   ]
  },
  {
   "cell_type": "code",
   "execution_count": 15,
   "id": "4d8976ba-1ad9-4347-aaea-e7e95f3b4fcc",
   "metadata": {},
   "outputs": [
    {
     "data": {
      "text/plain": [
       "'m'"
      ]
     },
     "execution_count": 15,
     "metadata": {},
     "output_type": "execute_result"
    }
   ],
   "source": [
    "st[-1]"
   ]
  },
  {
   "cell_type": "code",
   "execution_count": 16,
   "id": "96f63f44-971a-4219-9127-881d3bbb1214",
   "metadata": {},
   "outputs": [
    {
     "ename": "IndexError",
     "evalue": "string index out of range",
     "output_type": "error",
     "traceback": [
      "\u001b[0;31m---------------------------------------------------------------------------\u001b[0m",
      "\u001b[0;31mIndexError\u001b[0m                                Traceback (most recent call last)",
      "Cell \u001b[0;32mIn[16], line 2\u001b[0m\n\u001b[1;32m      1\u001b[0m \u001b[38;5;66;03m#python has both forward and backward indexing\u001b[39;00m\n\u001b[0;32m----> 2\u001b[0m \u001b[43mst\u001b[49m\u001b[43m[\u001b[49m\u001b[38;5;241;43m-\u001b[39;49m\u001b[38;5;241;43m43\u001b[39;49m\u001b[43m]\u001b[49m\n",
      "\u001b[0;31mIndexError\u001b[0m: string index out of range"
     ]
    }
   ],
   "source": [
    "#python has both forward and backward indexing\n",
    "st[-43]"
   ]
  },
  {
   "cell_type": "code",
   "execution_count": 17,
   "id": "4bd8733d-e740-4060-9d67-fa254288ce3d",
   "metadata": {},
   "outputs": [],
   "source": [
    "#Slicing\n",
    "#slicing does not take end point"
   ]
  },
  {
   "cell_type": "code",
   "execution_count": 19,
   "id": "c6a656a0-895c-4b1d-ac5d-d037d5e9e950",
   "metadata": {},
   "outputs": [
    {
     "data": {
      "text/plain": [
       "'Shiv'"
      ]
     },
     "execution_count": 19,
     "metadata": {},
     "output_type": "execute_result"
    }
   ],
   "source": [
    "st[0:4]"
   ]
  },
  {
   "cell_type": "code",
   "execution_count": 20,
   "id": "6f0e7cb4-52a6-4355-bf27-46648b2add4d",
   "metadata": {},
   "outputs": [
    {
     "data": {
      "text/plain": [
       "'vam'"
      ]
     },
     "execution_count": 20,
     "metadata": {},
     "output_type": "execute_result"
    }
   ],
   "source": [
    "st[3:6]"
   ]
  },
  {
   "cell_type": "code",
   "execution_count": 22,
   "id": "1b6a1cbf-cbca-4352-8fda-5107824525c7",
   "metadata": {},
   "outputs": [
    {
     "data": {
      "text/plain": [
       "'Shivam'"
      ]
     },
     "execution_count": 22,
     "metadata": {},
     "output_type": "execute_result"
    }
   ],
   "source": [
    "st[0:6]"
   ]
  },
  {
   "cell_type": "code",
   "execution_count": 23,
   "id": "ae823a73-61c1-49d9-adf7-9a93e083f693",
   "metadata": {},
   "outputs": [
    {
     "data": {
      "text/plain": [
       "'Shivam'"
      ]
     },
     "execution_count": 23,
     "metadata": {},
     "output_type": "execute_result"
    }
   ],
   "source": [
    "st[0:242]"
   ]
  },
  {
   "cell_type": "code",
   "execution_count": 24,
   "id": "d9eaf2ea-4efa-4b5d-9fbb-23c273a0ebd7",
   "metadata": {},
   "outputs": [
    {
     "data": {
      "text/plain": [
       "'ivam'"
      ]
     },
     "execution_count": 24,
     "metadata": {},
     "output_type": "execute_result"
    }
   ],
   "source": [
    "st[2:]"
   ]
  },
  {
   "cell_type": "code",
   "execution_count": 25,
   "id": "2f18e49e-728c-4c5d-a7db-d2066d620f72",
   "metadata": {},
   "outputs": [
    {
     "data": {
      "text/plain": [
       "'Si'"
      ]
     },
     "execution_count": 25,
     "metadata": {},
     "output_type": "execute_result"
    }
   ],
   "source": [
    "st[0:4: 2]\n",
    "#Strart : End : Jump"
   ]
  },
  {
   "cell_type": "code",
   "execution_count": 27,
   "id": "534ed2d5-fc87-4af9-974a-3858df9b6a7f",
   "metadata": {},
   "outputs": [
    {
     "data": {
      "text/plain": [
       "''"
      ]
     },
     "execution_count": 27,
     "metadata": {},
     "output_type": "execute_result"
    }
   ],
   "source": [
    "st[6 : 2]"
   ]
  },
  {
   "cell_type": "code",
   "execution_count": 28,
   "id": "ea0218cc-2e4a-425a-8299-35315ab9c6cd",
   "metadata": {},
   "outputs": [
    {
     "data": {
      "text/plain": [
       "'mav'"
      ]
     },
     "execution_count": 28,
     "metadata": {},
     "output_type": "execute_result"
    }
   ],
   "source": [
    "st[6: 2: -1]"
   ]
  },
  {
   "cell_type": "code",
   "execution_count": 29,
   "id": "3fe56bee-3d70-4357-9db7-65b561bbebcf",
   "metadata": {},
   "outputs": [
    {
     "data": {
      "text/plain": [
       "''"
      ]
     },
     "execution_count": 29,
     "metadata": {},
     "output_type": "execute_result"
    }
   ],
   "source": [
    "st[-1:-5]"
   ]
  },
  {
   "cell_type": "code",
   "execution_count": 30,
   "id": "6bc9f3bb-4b30-4666-a7ba-20a549629b98",
   "metadata": {},
   "outputs": [
    {
     "data": {
      "text/plain": [
       "'mav'"
      ]
     },
     "execution_count": 30,
     "metadata": {},
     "output_type": "execute_result"
    }
   ],
   "source": [
    "st[-1:-4:-1]"
   ]
  },
  {
   "cell_type": "code",
   "execution_count": 31,
   "id": "6ea14486-64bc-4fb2-847f-44cd330f2642",
   "metadata": {},
   "outputs": [
    {
     "data": {
      "text/plain": [
       "''"
      ]
     },
     "execution_count": 31,
     "metadata": {},
     "output_type": "execute_result"
    }
   ],
   "source": [
    "st[-1:-6]"
   ]
  },
  {
   "cell_type": "code",
   "execution_count": 32,
   "id": "d0cb87cf-d577-4492-b580-250daa15f2d6",
   "metadata": {},
   "outputs": [
    {
     "data": {
      "text/plain": [
       "'mavih'"
      ]
     },
     "execution_count": 32,
     "metadata": {},
     "output_type": "execute_result"
    }
   ],
   "source": [
    "st[-1:-6:-1]"
   ]
  },
  {
   "cell_type": "code",
   "execution_count": 33,
   "id": "d32f5c46-9bde-4c37-b49b-7805df6709b1",
   "metadata": {},
   "outputs": [
    {
     "data": {
      "text/plain": [
       "'mavihS'"
      ]
     },
     "execution_count": 33,
     "metadata": {},
     "output_type": "execute_result"
    }
   ],
   "source": [
    "st[-1::-1]"
   ]
  },
  {
   "cell_type": "code",
   "execution_count": 34,
   "id": "ec04cc01-af3d-4f8a-98db-0d7efa310028",
   "metadata": {},
   "outputs": [
    {
     "data": {
      "text/plain": [
       "'mavihS'"
      ]
     },
     "execution_count": 34,
     "metadata": {},
     "output_type": "execute_result"
    }
   ],
   "source": [
    "st[-1:-432:-1]"
   ]
  },
  {
   "cell_type": "code",
   "execution_count": 35,
   "id": "d368f27b-3edd-432e-a291-c508edb0cba0",
   "metadata": {},
   "outputs": [
    {
     "data": {
      "text/plain": [
       "'mavihS'"
      ]
     },
     "execution_count": 35,
     "metadata": {},
     "output_type": "execute_result"
    }
   ],
   "source": [
    "st[::-1]"
   ]
  },
  {
   "cell_type": "code",
   "execution_count": 36,
   "id": "33ee4350-0405-4426-b4af-cc422b92f4fa",
   "metadata": {},
   "outputs": [
    {
     "data": {
      "text/plain": [
       "'S'"
      ]
     },
     "execution_count": 36,
     "metadata": {},
     "output_type": "execute_result"
    }
   ],
   "source": [
    "s1 = \"Shivam\"\n",
    "s1[0]"
   ]
  },
  {
   "cell_type": "code",
   "execution_count": 37,
   "id": "7f3b8356-1abf-44ce-9996-87be8d8a67f0",
   "metadata": {},
   "outputs": [
    {
     "ename": "TypeError",
     "evalue": "'str' object does not support item assignment",
     "output_type": "error",
     "traceback": [
      "\u001b[0;31m---------------------------------------------------------------------------\u001b[0m",
      "\u001b[0;31mTypeError\u001b[0m                                 Traceback (most recent call last)",
      "Cell \u001b[0;32mIn[37], line 1\u001b[0m\n\u001b[0;32m----> 1\u001b[0m \u001b[43ms1\u001b[49m\u001b[43m[\u001b[49m\u001b[38;5;241;43m0\u001b[39;49m\u001b[43m]\u001b[49m \u001b[38;5;241m=\u001b[39m \u001b[38;5;124m\"\u001b[39m\u001b[38;5;124md\u001b[39m\u001b[38;5;124m\"\u001b[39m\n",
      "\u001b[0;31mTypeError\u001b[0m: 'str' object does not support item assignment"
     ]
    }
   ],
   "source": [
    "s1[0] = \"d\""
   ]
  },
  {
   "cell_type": "code",
   "execution_count": 38,
   "id": "59fe3bd6-7d67-42fa-bae8-3792ab1d9f9e",
   "metadata": {},
   "outputs": [],
   "source": [
    "# in String re-assignment is not allowed\n",
    "#String is immutable"
   ]
  },
  {
   "cell_type": "code",
   "execution_count": 39,
   "id": "df5cac03-d810-4803-b694-80d10527204d",
   "metadata": {},
   "outputs": [
    {
     "data": {
      "text/plain": [
       "'Dhivsm'"
      ]
     },
     "execution_count": 39,
     "metadata": {},
     "output_type": "execute_result"
    }
   ],
   "source": [
    "# the below is not considered reassignment of same string\n",
    "s1= \"Dhivsm\"\n",
    "s1"
   ]
  },
  {
   "cell_type": "code",
   "execution_count": null,
   "id": "4a0e80d1-fbc3-47d4-8f84-96d124b1371b",
   "metadata": {},
   "outputs": [],
   "source": []
  }
 ],
 "metadata": {
  "kernelspec": {
   "display_name": "Python 3 (ipykernel)",
   "language": "python",
   "name": "python3"
  },
  "language_info": {
   "codemirror_mode": {
    "name": "ipython",
    "version": 3
   },
   "file_extension": ".py",
   "mimetype": "text/x-python",
   "name": "python",
   "nbconvert_exporter": "python",
   "pygments_lexer": "ipython3",
   "version": "3.10.8"
  }
 },
 "nbformat": 4,
 "nbformat_minor": 5
}
